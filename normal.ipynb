{
 "cells": [
  {
   "cell_type": "code",
   "execution_count": 5,
   "id": "f76830cc",
   "metadata": {},
   "outputs": [
    {
     "name": "stdout",
     "output_type": "stream",
     "text": [
      "Top 10 nearest cities:\n",
      "City: Bengaluru, Distance: 1.01 km\n",
      "City: Kolar, Distance: 60.86 km\n",
      "City: Chikka Mandya, Distance: 89.44 km\n",
      "City: Hindupur, Distance: 95.89 km\n",
      "City: Mysore, Distance: 128.30 km\n",
      "City: Salem, Distance: 159.10 km\n",
      "City: Vellore, Distance: 167.32 km\n",
      "City: Tiruvannamalai, Distance: 180.37 km\n",
      "City: Tirupati, Distance: 210.86 km\n",
      "City: Proddatur, Distance: 222.96 km\n"
     ]
    }
   ],
   "source": [
    "import math\n",
    "import pandas as pd\n",
    "\n",
    "# Haversine formula to calculate the distance between two lat/lon points\n",
    "def haversine(lat1, lon1, lat2, lon2):\n",
    "    # Convert degrees to radians\n",
    "    lat1, lon1, lat2, lon2 = map(math.radians, [lat1, lon1, lat2, lon2])\n",
    "\n",
    "    # Haversine formula\n",
    "    dlat = lat2 - lat1\n",
    "    dlon = lon2 - lon1\n",
    "    a = math.sin(dlat / 2)**2 + math.cos(lat1) * math.cos(lat2) * math.sin(dlon / 2)**2\n",
    "    c = 2 * math.atan2(math.sqrt(a), math.sqrt(1 - a))\n",
    "\n",
    "    # Radius of Earth in km\n",
    "    r = 6371\n",
    "    return r * c  # returns the distance in kilometers\n",
    "\n",
    "# Function to get the top N nearest points based on the city\n",
    "def get_nearest_points(reference_lat, reference_lon, data, n):\n",
    "    distances = []\n",
    "    \n",
    "    # Iterate through each row in the dataset\n",
    "    for _, row in data.iterrows():\n",
    "        lat, lon = row['Lat'], row['Long']\n",
    "        dist = haversine(reference_lat, reference_lon, lat, lon)\n",
    "        distances.append((row['City'], dist))  # Only store city and distance\n",
    "    \n",
    "    # Sort by distance\n",
    "    distances.sort(key=lambda x: x[1])  # Sort by the distance value\n",
    "    \n",
    "    # Get the top N nearest points (cities)\n",
    "    return distances[:n]\n",
    "\n",
    "# Load dataset from CSV\n",
    "csv_file = r'C:\\Users\\Acer\\OneDrive\\Documents\\GitHub\\distance\\Indian Cities Database.csv'  # Replace with the path to your CSV file\n",
    "data = pd.read_csv(csv_file)\n",
    "\n",
    "# Ensure the CSV file has columns 'City', 'Lat', 'Long' (adjust based on your actual column names)\n",
    "\n",
    "# Example reference point (latitude and longitude)\n",
    "reference_point = (12.9716, 77.5946)  # Bangalore, India\n",
    "\n",
    "# Get the top N closest points (cities)\n",
    "n = 10  # Number of closest cities you want to return\n",
    "nearest_points = get_nearest_points(reference_point[0], reference_point[1], data, n)\n",
    "\n",
    "# Print the result (cities only)\n",
    "print(f\"Top {n} nearest cities:\")\n",
    "for point in nearest_points:\n",
    "    print(f\"City: {point[0]}, Distance: {point[1]:.2f} km\")\n"
   ]
  },
  {
   "cell_type": "code",
   "execution_count": 6,
   "id": "f67c7f69",
   "metadata": {},
   "outputs": [
    {
     "name": "stdout",
     "output_type": "stream",
     "text": [
      "Requirement already satisfied: flask in c:\\users\\acer\\anaconda3\\lib\\site-packages (3.0.3)\n",
      "Requirement already satisfied: Werkzeug>=3.0.0 in c:\\users\\acer\\anaconda3\\lib\\site-packages (from flask) (3.0.3)\n",
      "Requirement already satisfied: Jinja2>=3.1.2 in c:\\users\\acer\\anaconda3\\lib\\site-packages (from flask) (3.1.4)\n",
      "Requirement already satisfied: itsdangerous>=2.1.2 in c:\\users\\acer\\anaconda3\\lib\\site-packages (from flask) (2.2.0)\n",
      "Requirement already satisfied: click>=8.1.3 in c:\\users\\acer\\anaconda3\\lib\\site-packages (from flask) (8.1.7)\n",
      "Requirement already satisfied: blinker>=1.6.2 in c:\\users\\acer\\anaconda3\\lib\\site-packages (from flask) (1.6.2)\n",
      "Requirement already satisfied: colorama in c:\\users\\acer\\anaconda3\\lib\\site-packages (from click>=8.1.3->flask) (0.4.6)\n",
      "Requirement already satisfied: MarkupSafe>=2.0 in c:\\users\\acer\\anaconda3\\lib\\site-packages (from Jinja2>=3.1.2->flask) (2.1.3)\n"
     ]
    }
   ],
   "source": [
    "!pip install flask\n"
   ]
  }
 ],
 "metadata": {
  "kernelspec": {
   "display_name": "base",
   "language": "python",
   "name": "python3"
  },
  "language_info": {
   "codemirror_mode": {
    "name": "ipython",
    "version": 3
   },
   "file_extension": ".py",
   "mimetype": "text/x-python",
   "name": "python",
   "nbconvert_exporter": "python",
   "pygments_lexer": "ipython3",
   "version": "3.12.7"
  }
 },
 "nbformat": 4,
 "nbformat_minor": 5
}
